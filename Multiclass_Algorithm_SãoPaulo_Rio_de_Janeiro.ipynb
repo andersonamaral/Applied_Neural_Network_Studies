{
 "cells": [
  {
   "cell_type": "code",
   "execution_count": 1,
   "metadata": {},
   "outputs": [
    {
     "name": "stdout",
     "output_type": "stream",
     "text": [
      "Tá um dia de sol em São Paulo => Rio de Janeiro, São Paulo\n",
      " Chegando em SP => Rio de Janeiro, São Paulo\n",
      "Tem garoa no Rio => Rio de Janeiro\n",
      "Essa cidade é foda => Rio de Janeiro\n",
      "Fui a Sampa e voltei ao Rio => Rio de Janeiro, São Paulo\n",
      " Essa cidade é muito rica => Rio de Janeiro\n",
      "Um ônibus de São Paulo a Rio. Aproveitei a cidade da garoa e a d sol => São Paulo\n"
     ]
    }
   ],
   "source": [
    "import numpy as np\n",
    "from sklearn.pipeline import Pipeline\n",
    "from sklearn.feature_extraction.text import CountVectorizer\n",
    "from sklearn.svm import LinearSVC\n",
    "from sklearn.feature_extraction.text import TfidfTransformer\n",
    "from sklearn.multiclass import OneVsRestClassifier\n",
    "from sklearn.preprocessing import MultiLabelBinarizer\n",
    "\n",
    "X_train = np.array([\"São Paulo é foda\",\n",
    "                    \"São Paulo é a terra da garoa\",\n",
    "                    \"Sampa é gíria de carioca\",\n",
    "                    \"São Paulo é a capital mais rica do país\",\n",
    "                    \"São Paulo e rica e as coisas ao redor são caras\",\n",
    "                    \"As pessoas abreviam São Paulo como SP\",\n",
    "                    \"Rio de Janeiro no calor é foda\",\n",
    "                    \"Rio de Janeiro é a terra do sol\",\n",
    "                    \"Rio é uma cidade rica\",\n",
    "                    \"Rio é o orgulho do carioca\",\n",
    "                    \"Raramente chove no Rio\",\n",
    "                    \"Rio tem o Museu imperial e SP o Museu do Ipiranga \",\n",
    "                    \"São Paulo é maior do que o Rio de Janeiro\",\n",
    "                    \"Eu fui a São Paulo em Janeiro\"])\n",
    "y_train_text = [[\"São Paulo\"],[\"São Paulo\"],[\"São Paulo\"],[\"São Paulo\"],[\"São Paulo\"],\n",
    "                [\"São Paulo\"],[\"Rio de Janeiro\"],[\"Rio de Janeiro\"],[\"Rio de Janeiro\"],[\"Rio de Janeiro\"],\n",
    "                [\"Rio de Janeiro\"],[\"Rio de Janeiro\"],[\"São Paulo\",\"Rio de Janeiro\"],[\"São Paulo\",\"Rio de Janeiro\"]]\n",
    "\n",
    "X_test = np.array(['Tá um dia de sol em São Paulo',\n",
    "                   ' Chegando em SP',\n",
    "                   'Tem garoa no Rio',\n",
    "                   'Essa cidade é foda',\n",
    "                   'Fui a Sampa e voltei ao Rio',\n",
    "                   ' Essa cidade é muito rica',\n",
    "                   'Um ônibus de São Paulo a Rio. Aproveitei a cidade da garoa e a d sol'])\n",
    "target_names = ['São Paulo', 'Rio de Janeiro']\n",
    "\n",
    "mlb = MultiLabelBinarizer()\n",
    "Y = mlb.fit_transform(y_train_text)\n",
    "\n",
    "classifier = Pipeline([\n",
    "    ('vectorizer', CountVectorizer()),\n",
    "    ('tfidf', TfidfTransformer()),\n",
    "    ('clf', OneVsRestClassifier(LinearSVC()))])\n",
    "\n",
    "classifier.fit(X_train, Y)\n",
    "predicted = classifier.predict(X_test)\n",
    "all_labels = mlb.inverse_transform(predicted)\n",
    "\n",
    "for item, labels in zip(X_test, all_labels):\n",
    "    print('{0} => {1}'.format(item, ', '.join(labels)))"
   ]
  },
  {
   "cell_type": "code",
   "execution_count": null,
   "metadata": {
    "collapsed": true
   },
   "outputs": [],
   "source": []
  }
 ],
 "metadata": {
  "kernelspec": {
   "display_name": "Python 3",
   "language": "python",
   "name": "python3"
  },
  "language_info": {
   "codemirror_mode": {
    "name": "ipython",
    "version": 3
   },
   "file_extension": ".py",
   "mimetype": "text/x-python",
   "name": "python",
   "nbconvert_exporter": "python",
   "pygments_lexer": "ipython3",
   "version": "3.5.1"
  }
 },
 "nbformat": 4,
 "nbformat_minor": 1
}
